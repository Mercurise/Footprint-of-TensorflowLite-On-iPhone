{
  "nbformat": 4,
  "nbformat_minor": 0,
  "metadata": {
    "colab": {
      "name": "from zero to deploy tensorflow lite model into iPhone.ipynb",
      "provenance": [],
      "collapsed_sections": [],
      "include_colab_link": true
    },
    "kernelspec": {
      "name": "python3",
      "display_name": "Python 3"
    }
  },
  "cells": [
    {
      "cell_type": "markdown",
      "metadata": {
        "id": "view-in-github",
        "colab_type": "text"
      },
      "source": [
        "<a href=\"https://colab.research.google.com/github/Mercurise/Footprint-of-TensorflowLite-On-iPhone/blob/master/from_zero_to_deploy_tensorflow_lite_model_into_iPhone.ipynb\" target=\"_parent\"><img src=\"https://colab.research.google.com/assets/colab-badge.svg\" alt=\"Open In Colab\"/></a>"
      ]
    },
    {
      "cell_type": "markdown",
      "metadata": {
        "id": "ELhkwIAthiKT",
        "colab_type": "text"
      },
      "source": [
        "The main responsibilities: \n",
        "*   Deploying NN into mobile devices and optimise its performance, especially improve the inferencing effiency.\n",
        "*   **Tools involved:** \n",
        "    * Frameworks: TensorflowLite, ArmNN (I only got IPhone 8, sad...)\n",
        "    * Methods: NN Pruning, NN quantization and more.\n",
        "* **Role Requirements:**\n",
        "    * Highly motivated and creative\n",
        "    * Experiences in Deploying ML models into devices.\n",
        "* **Attempt/Learn it:**\n",
        "  * Deploy ML into my IPhone or Mac device using ML models implemented by TensorflowLite\n",
        "  * Explain the key steps and summarise the pipeline\n",
        "  * Summarise related academic papers and alternative methods\n",
        "  * Highlight the general pipeline of implementing a customised methods or modifications on the state-of-art methods.\n",
        "  * Briefly explain the general mechanism of TensorflowLite frameworks and the key of it. \n",
        "  * Briefly explain the general mechanism of ArmNN frameworks and the key of it.\n",
        "\n",
        "\n",
        "\n",
        "\n"
      ]
    },
    {
      "cell_type": "code",
      "metadata": {
        "id": "gMbxpFc83sol",
        "colab_type": "code",
        "outputId": "f990d1a8-1e72-48ef-ea44-dad64946cba3",
        "colab": {
          "base_uri": "https://localhost:8080/",
          "height": 121
        }
      },
      "source": [
        "from google.colab import drive\n",
        "drive.mount('/content/drive')"
      ],
      "execution_count": 0,
      "outputs": [
        {
          "output_type": "stream",
          "text": [
            "Go to this URL in a browser: https://accounts.google.com/o/oauth2/auth?client_id=947318989803-6bn6qk8qdgf4n4g3pfee6491hc0brc4i.apps.googleusercontent.com&redirect_uri=urn%3aietf%3awg%3aoauth%3a2.0%3aoob&response_type=code&scope=email%20https%3a%2f%2fwww.googleapis.com%2fauth%2fdocs.test%20https%3a%2f%2fwww.googleapis.com%2fauth%2fdrive%20https%3a%2f%2fwww.googleapis.com%2fauth%2fdrive.photos.readonly%20https%3a%2f%2fwww.googleapis.com%2fauth%2fpeopleapi.readonly\n",
            "\n",
            "Enter your authorization code:\n",
            "··········\n",
            "Mounted at /content/drive\n"
          ],
          "name": "stdout"
        }
      ]
    },
    {
      "cell_type": "markdown",
      "metadata": {
        "id": "Taje3loPJjrZ",
        "colab_type": "text"
      },
      "source": [
        "\n",
        "##Deploy Tensorflow Lite Example projects into my IPhone 8.##\n",
        "###**Get Hands Dirty**###\n",
        "*   **Baseline**\n",
        "  * Learn IOS development basis\n",
        "  * Install required tools\n",
        "  * \"hello-world\"\n",
        "\n",
        "*   **Detailed steps**\n",
        "  * Install Tensorflow, Xcode, Ruby, cocoapod and other required libraries.\n",
        "      * Issues: my macbook pro 13 doesn't support the most recent, due to there is no avaliable Mac OS for my laptop.\n",
        "      * Installed older version Xcode\n",
        "  * Follow an [YouTube video tutorial](https://www.youtube.com/watch?v=MuMZZtQpB6Y) do a \"hellow-world\" demo:\n",
        "      * Learn to use Xcode to start a project with Pod\n",
        "      * Google Colab cannot display my image shared in my own google drive. **Use other image host instead, Imgur.**\n",
        "      * Done!\n",
        "\n",
        "      ![hello-world](https://i.imgur.com/SY20X5O.png)\n",
        "\n",
        "### **Tensorflow Lite Image Classification Example on iPhone** ###\n",
        "\n",
        "Follow the official introduction to \n",
        "* ```git clone```\n",
        "* install related pod to generate xcode workspace to do the deployment.\n",
        "* Deploy the app into the iPhone\n",
        "* Act like a spy, sneakly taking photos or videos.\n",
        "\n",
        "Similar procedures for Image Segmentation with some small modifications, however, there are some path errors inside the original codes for ```gesture classiciation``` and ```object detection```. These issues might be caused by the updated system, as the errors are cannot find files.\n",
        "\n",
        "Here are some demo iphone screen records:\n",
        "[Image Classification](https://drive.google.com/open?id=1-uJZxHW6_cGV5_O5_EseaQ_quAtoJZ6J)\n",
        "\n",
        "[Image Segmentation for single chair](https://drive.google.com/file/d/1ijMgiUucYR0_qrpz4lQgwFrqOCPa3yTj/view?usp=sharing)\n",
        "\n",
        "[Image Segmentation for multiple chair](https://drive.google.com/open?id=1QE5XskGZ6w5jNQwXOejXx57k2z1vGPrp)\n"
      ]
    },
    {
      "cell_type": "markdown",
      "metadata": {
        "id": "I06INvL3jPjE",
        "colab_type": "text"
      },
      "source": [
        "Some Reflection thinkings:\n",
        "\n",
        "As motivated by the [tfLite instruction jupyterNotebook](https://github.com/tensorflow/examples/blob/master/tensorflow_examples/lite/model_customization/demo/image_classification.ipynb), these improvements can be achieved by:\n",
        "*   Model Customisation and architecture re-design, using **nn pruning, distillation or quantization**.\n",
        "*   Optimise the training process, such as epochs, drop out rate, batch size and other general hyper-parameters.  \n",
        "*   Evaluate results by the exported tfLite size and performance. Maybe consider the FLOPs?\n",
        "The figure below comes from Prof. Eric Xing's slides at DeepLearn 2018.\n",
        "![architecture, Prof. Eric Xing's slides](https://i.imgur.com/HxXvT1n.png)\n",
        "\n",
        "\n",
        "\n"
      ]
    }
  ]
}